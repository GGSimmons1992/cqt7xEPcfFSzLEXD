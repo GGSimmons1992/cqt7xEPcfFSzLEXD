{
 "cells": [
  {
   "cell_type": "code",
   "execution_count": null,
   "id": "263e5ee8-6ec3-43ee-be7d-be11fc050347",
   "metadata": {},
   "outputs": [],
   "source": [
    "import numpy as np\n",
    "import pandas as pd\n",
    "#import matplotlib.pyplot as plt\n",
    "#from os.path import exists\n",
    "#import json\n",
    "#import scipy.stats as stats\n",
    "#import math\n",
    "from sklearn.model_selection import train_test_split\n",
    "#import seaborn as sb\n",
    "#from sklearn.ensemble import RandomForestClassifier as rf\n",
    "#from sklearn.pipeline import make_pipeline\n",
    "#from sklearn.preprocessing import StandardScaler\n",
    "#import sklearn.linear_model as lm\n",
    "#from sklearn.tree import DecisionTreeClassifier as tree\n",
    "#from sklearn.neighbors import KNeighborsClassifier as knn\n",
    "#from xgboost import XGBClassifier as xgb\n",
    "#from sklearn.svm import SVC\n",
    "#from sklearn.naive_bayes import GaussianNB as gnb\n",
    "#from sklearn.ensemble import VotingClassifier\n",
    "#import sklearn.model_selection as ms\n",
    "#import sklearn.metrics as sm\n",
    "#import joblib\n",
    "from sklearn.preprocessing import StandardScaler\n",
    "%autosave 5"
   ]
  },
  {
   "cell_type": "code",
   "execution_count": null,
   "id": "b5497a0e-3d31-4a3f-89fa-1ce633451545",
   "metadata": {},
   "outputs": [],
   "source": [
    "def scaleDF(df,baseName):\n",
    "    scaler = StandardScaler()\n",
    "    numericalCols = list(df.columns)\n",
    "    df[numericalCols] = scaler.fit_transform(df[numericalCols])\n",
    "    pickle.dump(scaler, open(f\"../Interim/{baseName}Scaler.pkl\", 'wb'))"
   ]
  },
  {
   "cell_type": "code",
   "execution_count": null,
   "id": "785a340f-1654-42fb-80d6-45895c8a2c03",
   "metadata": {},
   "outputs": [],
   "source": [
    "def separateDFBySubtype(df):\n",
    "    numericalCols = []\n",
    "    categoricalCols = []\n",
    "    for col in df.columns:\n",
    "        if np.issubdtype(df[col].dtype, np.number):\n",
    "            numericalCols.append(str(col))\n",
    "        else:\n",
    "            categoricalCols.append(str(col))\n",
    "    numericalDF = df[numericalCols]\n",
    "    categoricalDF = df[categoricalCols]\n",
    "    return numericalDF,categoricalDF"
   ]
  },
  {
   "cell_type": "code",
   "execution_count": null,
   "id": "0b0b0d5b-1d3a-4e69-9ddf-74ab46b7bb3f",
   "metadata": {},
   "outputs": [],
   "source": [
    "def processTrainData(trainFileName):\n",
    "    df = pd.read_csv(f\"../Data/Interim/{trainFileName}.csv\")\n",
    "    y = df[[\"Y\"]]\n",
    "    df = df.drop(\"Y\",axis = 1)\n",
    "    numericalDF,categoricalDF = separateDFBySubtype(df)\n",
    "    scaledDF = scaleDF(numericalDF)\n",
    "    encodedDF = encodeDF(categoricalDF)\n",
    "    finalDF = pd.concatenate([scaledDF,encodedDF,y],axis=1)\n",
    "    finalDF.to_csv(f\"../Data/Processed/{trainFileName}.csv\",index=False)"
   ]
  },
  {
   "cell_type": "code",
   "execution_count": null,
   "id": "396aa98c-f5d2-4c42-af8b-bc7d453f61b3",
   "metadata": {},
   "outputs": [],
   "source": [
    "def splitData():\n",
    "    df = pd.read_csv(\"../Data/Raw/term-deposit-marketing-2020.csv\")\n",
    "    y = df[[\"Y\"]]\n",
    "    X = df.drop(\"Y\",axis=1)\n",
    "    XTrain,XTest,yTrain,yTest = train_test_split(X, y, test_size=0.2,random_state=51)\n",
    "    TermDepositTrain = XTrain.copy()\n",
    "    TermDepositTrain['Y'] = yTrain\n",
    "    TermDepositTrain.to_csv('../Data/Interim/TermDepositTrain.csv',index=False)\n",
    "    TermDepositTest = XTest.copy()\n",
    "    TermDepositTest['Y'] = yTest\n",
    "    TermDepositTest.to_csv('../Data/Interim/TermDepositTest.csv',index=False)"
   ]
  },
  {
   "cell_type": "code",
   "execution_count": null,
   "id": "6c13ee52-9cab-4a59-93cf-c622325299e1",
   "metadata": {},
   "outputs": [],
   "source": [
    "def main():\n",
    "    splitData()"
   ]
  },
  {
   "cell_type": "code",
   "execution_count": null,
   "id": "1573bea1-4b48-44b4-99d4-1f454ce6a5db",
   "metadata": {},
   "outputs": [],
   "source": [
    "main()"
   ]
  }
 ],
 "metadata": {
  "kernelspec": {
   "display_name": "Python 3 (ipykernel)",
   "language": "python",
   "name": "python3"
  },
  "language_info": {
   "codemirror_mode": {
    "name": "ipython",
    "version": 3
   },
   "file_extension": ".py",
   "mimetype": "text/x-python",
   "name": "python",
   "nbconvert_exporter": "python",
   "pygments_lexer": "ipython3",
   "version": "3.9.13"
  }
 },
 "nbformat": 4,
 "nbformat_minor": 5
}
