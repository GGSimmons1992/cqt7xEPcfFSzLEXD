{
 "cells": [
  {
   "cell_type": "code",
   "execution_count": null,
   "id": "81eaee5f-2b82-4ce3-8734-864f961954eb",
   "metadata": {},
   "outputs": [],
   "source": [
    "import warnings\n",
    "warnings.filterwarnings(\"ignore\")\n",
    "import pickle\n",
    "import matplotlib\n",
    "%autosave 5"
   ]
  },
  {
   "cell_type": "code",
   "execution_count": null,
   "id": "0451bf45-7025-40d5-9e73-81ddbb1bd438",
   "metadata": {},
   "outputs": [],
   "source": [
    "def displayFeatureImportances(fittedModel):\n",
    "    columns = fittedModel.columns\n",
    "    importance = fittedModel.feature_importances_\n",
    "    featureImportance = pd.DataFrame({\n",
    "        \"feature\": columns,\n",
    "        \"featureImportance\": importance\n",
    "        },columns = [\"feature\",\"featureImportance\"])\n",
    "    featureImportancesSorted = featureImportance.sort_values(by=\"featureImportance\", ascending=False)\n",
    "    for i in range(10):\n",
    "        featureRow = featureImportancesSorted.iloc[i]\n",
    "        feature = featureRow['feature']\n",
    "        featureValue = featureRow['featureImportance']\n",
    "        print(f'Rank {i}: {feature}: score: {featureValue}')\n",
    "    print(\"\\n\")"
   ]
  },
  {
   "cell_type": "code",
   "execution_count": null,
   "id": "7d2e2985-d236-48e4-af32-ead605dc469e",
   "metadata": {},
   "outputs": [],
   "source": [
    "def main():\n",
    "    #Best test score came from svm undersample\n",
    "    #Best test score from a tree based model came from forest Undersample\n",
    "    mod = pickle.load(open(\"../Models/forest Undersample.pkl\",'rb'))\n",
    "    displayFeatureImportances(mod.columns,mod,modelName)\n",
    "    pass"
   ]
  },
  {
   "cell_type": "code",
   "execution_count": null,
   "id": "3bc57954-dd78-4b12-99c1-47ad40c5dcb8",
   "metadata": {},
   "outputs": [],
   "source": [
    "with warnings.catch_warnings():\n",
    "    warnings.simplefilter(\"ignore\")\n",
    "    main()"
   ]
  }
 ],
 "metadata": {
  "kernelspec": {
   "display_name": "Python 3 (ipykernel)",
   "language": "python",
   "name": "python3"
  },
  "language_info": {
   "codemirror_mode": {
    "name": "ipython",
    "version": 3
   },
   "file_extension": ".py",
   "mimetype": "text/x-python",
   "name": "python",
   "nbconvert_exporter": "python",
   "pygments_lexer": "ipython3",
   "version": "3.9.18"
  }
 },
 "nbformat": 4,
 "nbformat_minor": 5
}
